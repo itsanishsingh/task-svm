{
 "cells": [
  {
   "cell_type": "code",
   "execution_count": null,
   "id": "5b5e4baf-b156-4d3b-b0be-243bf54c0228",
   "metadata": {},
   "outputs": [],
   "source": []
  }
 ],
 "metadata": {
  "kernelspec": {
   "display_name": "",
   "name": ""
  },
  "language_info": {
   "name": ""
  }
 },
 "nbformat": 4,
 "nbformat_minor": 5
}
